{
 "cells": [
  {
   "cell_type": "code",
   "execution_count": 2,
   "metadata": {},
   "outputs": [
    {
     "name": "stdout",
     "output_type": "stream",
     "text": [
      "{'vehicle_1': {'x': -7.966956615447998, 'y': 66.28325653076172, 'direction': -179.92672729492188, 'detected': [[-6.686602578157384, 67.56361056805234]]}, 'vehicle_2': {'x': -41.49428939819336, 'y': 110.9452896118164, 'direction': -90.16118621826172, 'detected': []}}\n"
     ]
    }
   ],
   "source": [
    "import os\n",
    "import json\n",
    "import matplotlib.pyplot as plt\n",
    "\n",
    "\n",
    "RESULTS_FILE = \"result.json\"\n",
    "path = os.path.join('results', RESULTS_FILE)\n",
    "\n",
    "with open(path) as json_file:\n",
    "    data = json.load(json_file)\n",
    "\n",
    "print(data)"
   ]
  },
  {
   "cell_type": "code",
   "execution_count": 5,
   "metadata": {},
   "outputs": [
    {
     "name": "stdout",
     "output_type": "stream",
     "text": [
      "detection: x\n"
     ]
    },
    {
     "ename": "IndexError",
     "evalue": "string index out of range",
     "output_type": "error",
     "traceback": [
      "\u001b[1;31m---------------------------------------------------------------------------\u001b[0m",
      "\u001b[1;31mIndexError\u001b[0m                                Traceback (most recent call last)",
      "Cell \u001b[1;32mIn[5], line 13\u001b[0m\n\u001b[0;32m     11\u001b[0m \u001b[39mfor\u001b[39;00m detection \u001b[39min\u001b[39;00m agent_data:\n\u001b[0;32m     12\u001b[0m     \u001b[39mprint\u001b[39m(\u001b[39m\"\u001b[39m\u001b[39mdetection: \u001b[39m\u001b[39m\"\u001b[39m \u001b[39m+\u001b[39m detection)\n\u001b[1;32m---> 13\u001b[0m     plt\u001b[39m.\u001b[39mscatter(detection[\u001b[39m0\u001b[39m], detection[\u001b[39m1\u001b[39;49m], c\u001b[39m=\u001b[39mcolors[i])\n",
      "\u001b[1;31mIndexError\u001b[0m: string index out of range"
     ]
    },
    {
     "data": {
      "image/png": "[encoded data removed]",
      "text/plain": [
       "<Figure size 640x480 with 1 Axes>"
      ]
     },
     "metadata": {},
     "output_type": "display_data"
    }
   ],
   "source": [
    "# Plot agents\n",
    "\n",
    "# TODO: Use cmap or something to automatically pick colors.\n",
    "colors = ['red', 'blue', 'yellow', 'black', 'orange', 'green']\n",
    "\n",
    "for i, agent in enumerate(data):\n",
    "    agent_data = data[agent]\n",
    "\n",
    "    plt.scatter(agent_data['x'], agent_data['y'], c=colors[i], edgecolors=\"black\")\n",
    "\n",
    "    for detection in agent_data['detected']:\n",
    "        print(\"detection: \" + detection)\n",
    "        plt.scatter(detection[0], detection[1], c=colors[i])"
   ]
  }
 ],
 "metadata": {
  "kernelspec": {
   "display_name": "Python 3",
   "language": "python",
   "name": "python3"
  },
  "language_info": {
   "codemirror_mode": {
    "name": "ipython",
    "version": 3
   },
   "file_extension": ".py",
   "mimetype": "text/x-python",
   "name": "python",
   "nbconvert_exporter": "python",
   "pygments_lexer": "ipython3",
   "version": "3.11.1"
  },
  "orig_nbformat": 4,
  "vscode": {
   "interpreter": {
    "hash": "a9f60f4284eaef019ed2b7062aa39ec920555a55d4ac6516f10d7421557bd24f"
   }
  }
 },
 "nbformat": 4,
 "nbformat_minor": 2
}
